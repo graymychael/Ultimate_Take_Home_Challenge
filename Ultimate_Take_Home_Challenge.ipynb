{
 "cells": [
  {
   "cell_type": "markdown",
   "id": "1a5d44df-492d-46c4-92d1-bd7af54bd1d9",
   "metadata": {},
   "source": [
    "# Ultimate Technologies Inc. Take-Home Challenge"
   ]
  },
  {
   "cell_type": "markdown",
   "id": "83b36684-b715-4fa7-876e-844928c60ed6",
   "metadata": {},
   "source": [
    "Ultimate Technologies Inc. is a transportation network company that has disrupted the taxi and logistics industry and is considered a prestigious company to work for. This challenge has been adapted from an actual Ultimate Inc. data science challenge."
   ]
  },
  {
   "cell_type": "markdown",
   "id": "2a00a9e9-84b7-466f-93b6-29ae50571294",
   "metadata": {},
   "source": [
    "## Part 1 ‐ Exploratory data analysis"
   ]
  },
  {
   "cell_type": "markdown",
   "id": "baf2eaec-527b-4df6-810c-0d1954c669f6",
   "metadata": {},
   "source": [
    "The attached logins.json file contains (simulated) timestamps of user logins in a particular geographic location. Aggregate these login counts based on 15minute time intervals, and visualize and describe the resulting time series of login counts in ways that best characterize the underlying patterns of the demand. Please report/illustrate important features of the demand, such as daily cycles. If there are data quality issues, please report them."
   ]
  },
  {
   "cell_type": "markdown",
   "id": "b5c0a379-17f8-4c80-b6bb-76ea58b1ef89",
   "metadata": {},
   "source": [
    "### Imports"
   ]
  },
  {
   "cell_type": "code",
   "execution_count": 1,
   "id": "429a4b94-cd9d-44be-9c85-e1d72de2ffc1",
   "metadata": {},
   "outputs": [],
   "source": [
    "import pandas as pd\n",
    "import numpy as np\n",
    "import json\n",
    "import datetime\n",
    "\n",
    "import matplotlib.pyplot as plt\n",
    "import seaborn as sns\n",
    "\n",
    "import warnings\n",
    "warnings.filterwarnings(action='ignore')\n",
    "\n",
    "%matplotlib inline\n",
    "plt.rcParams['figure.figsize'] = (15, 7.5)"
   ]
  },
  {
   "cell_type": "markdown",
   "id": "c61b0dfd-8713-4c0c-8632-2ba5383ae5ec",
   "metadata": {},
   "source": [
    "### EDA"
   ]
  },
  {
   "cell_type": "code",
   "execution_count": 2,
   "id": "56127bb1-3adf-4c68-81ff-d5492841362f",
   "metadata": {},
   "outputs": [
    {
     "data": {
      "text/html": [
       "<div>\n",
       "<style scoped>\n",
       "    .dataframe tbody tr th:only-of-type {\n",
       "        vertical-align: middle;\n",
       "    }\n",
       "\n",
       "    .dataframe tbody tr th {\n",
       "        vertical-align: top;\n",
       "    }\n",
       "\n",
       "    .dataframe thead th {\n",
       "        text-align: right;\n",
       "    }\n",
       "</style>\n",
       "<table border=\"1\" class=\"dataframe\">\n",
       "  <thead>\n",
       "    <tr style=\"text-align: right;\">\n",
       "      <th></th>\n",
       "      <th>login_time</th>\n",
       "    </tr>\n",
       "  </thead>\n",
       "  <tbody>\n",
       "    <tr>\n",
       "      <th>0</th>\n",
       "      <td>1970-01-01 20:13:18</td>\n",
       "    </tr>\n",
       "    <tr>\n",
       "      <th>1</th>\n",
       "      <td>1970-01-01 20:16:10</td>\n",
       "    </tr>\n",
       "    <tr>\n",
       "      <th>2</th>\n",
       "      <td>1970-01-01 20:16:37</td>\n",
       "    </tr>\n",
       "    <tr>\n",
       "      <th>3</th>\n",
       "      <td>1970-01-01 20:16:36</td>\n",
       "    </tr>\n",
       "    <tr>\n",
       "      <th>4</th>\n",
       "      <td>1970-01-01 20:26:21</td>\n",
       "    </tr>\n",
       "  </tbody>\n",
       "</table>\n",
       "</div>"
      ],
      "text/plain": [
       "           login_time\n",
       "0 1970-01-01 20:13:18\n",
       "1 1970-01-01 20:16:10\n",
       "2 1970-01-01 20:16:37\n",
       "3 1970-01-01 20:16:36\n",
       "4 1970-01-01 20:26:21"
      ]
     },
     "execution_count": 2,
     "metadata": {},
     "output_type": "execute_result"
    }
   ],
   "source": [
    "df = pd.read_json(path_or_buf='raw_data/logins.json')\n",
    "df.head()"
   ]
  },
  {
   "cell_type": "code",
   "execution_count": 3,
   "id": "c9e3b3bd-455d-474b-8bd5-09babf0dab07",
   "metadata": {},
   "outputs": [
    {
     "name": "stdout",
     "output_type": "stream",
     "text": [
      "DF Summary:                  login_time\n",
      "count                 93142\n",
      "unique                92265\n",
      "top     1970-03-17 01:01:39\n",
      "freq                      3\n",
      "first   1970-01-01 20:12:16\n",
      "last    1970-04-13 18:57:38\n"
     ]
    }
   ],
   "source": [
    "print('DF Summary:', df.describe())"
   ]
  },
  {
   "cell_type": "code",
   "execution_count": 4,
   "id": "4a6fb2d4-4465-4081-9fde-452ed4f3f355",
   "metadata": {},
   "outputs": [
    {
     "name": "stdout",
     "output_type": "stream",
     "text": [
      "Type: login_time    datetime64[ns]\n",
      "dtype: object\n"
     ]
    }
   ],
   "source": [
    "print('Type:', df.dtypes)"
   ]
  },
  {
   "cell_type": "code",
   "execution_count": 5,
   "id": "3259df73-47ce-44b2-bf7d-cdcf2731ffbb",
   "metadata": {},
   "outputs": [
    {
     "name": "stdout",
     "output_type": "stream",
     "text": [
      "datetime64[ns]\n"
     ]
    }
   ],
   "source": [
    "# Convert login_time series to datetime\n",
    "df['login_time'] = pd.to_datetime(df['login_time'])\n",
    "print(df['login_time'].dtypes)"
   ]
  },
  {
   "cell_type": "code",
   "execution_count": 6,
   "id": "c97a44dd-39f8-4ef7-aa5b-8681333b4eb1",
   "metadata": {},
   "outputs": [],
   "source": [
    "# Set, sort, and resample index to login_time\n",
    "df = df.set_index('login_time').sort_index().resample('15T').size()"
   ]
  },
  {
   "cell_type": "code",
   "execution_count": 7,
   "id": "a8e0f8f6-182c-428c-84d9-cd92580b98d6",
   "metadata": {},
   "outputs": [
    {
     "data": {
      "image/png": "[encoded data removed]",
      "text/plain": [
       "<Figure size 1440x720 with 3 Axes>"
      ]
     },
     "metadata": {
      "needs_background": "light"
     },
     "output_type": "display_data"
    }
   ],
   "source": [
    "# Visualize data\n",
    "plt.figure(figsize=(20,10))\n",
    "\n",
    "plt.subplot(5,1,1)\n",
    "plt.plot(df)\n",
    "plt.title('Login interval every 15 min:', size=20)\n",
    "plt.xlabel('Time Period', size=15)\n",
    "plt.ylabel('Frequency', size=15)\n",
    "plt.xticks(size=12.5)\n",
    "plt.yticks(size=12.5)\n",
    "\n",
    "plt.subplot(5,1,2)\n",
    "plt.plot(df.loc['1970-01-01':'1970-01-31'])\n",
    "plt.title('January & February Login interval every 15 min:', size=20)\n",
    "plt.xlabel('Time Period', size=15)\n",
    "plt.ylabel('Frequency', size=15)\n",
    "plt.xticks(size=12.5)\n",
    "plt.yticks(size=12.5)\n",
    "\n",
    "\n",
    "plt.subplot(5, 1, 2)\n",
    "plt.plot(df.loc['1970-02-01':'1970-02-28'])\n",
    "plt.xlabel('Time Period', size=15)\n",
    "plt.ylabel('Frequency', size=15)\n",
    "plt.xticks(size=12.5)\n",
    "plt.yticks(size=12.5)\n",
    "\n",
    "plt.subplot(5, 1, 3)\n",
    "plt.plot(df.loc['1970-03-01':'1970-03-31'])\n",
    "plt.title('March & April Login interval every 15 min:', size=20)\n",
    "plt.xlabel('Time Period', size=15)\n",
    "plt.ylabel('Frequency', size=15)\n",
    "plt.xticks(size=12.5)\n",
    "plt.yticks(size=12.5)\n",
    "\n",
    "plt.subplot(5, 1, 3)\n",
    "plt.plot(df.loc['1970-04-01':'1970-04-30'])\n",
    "plt.xlabel('Time Period', size=15)\n",
    "plt.ylabel('Frequency', size=15)\n",
    "plt.xticks(size=12.5)\n",
    "plt.yticks(size=12.5)\n",
    "\n",
    "plt.tight_layout()\n",
    "plt.show()"
   ]
  },
  {
   "cell_type": "markdown",
   "id": "fcc0e257-010d-4434-83a8-1e105bfcf23b",
   "metadata": {},
   "source": [
    "According to the visualizations, above the busiest month of the year is February due to a higher login average for the entire month than others. April is second as the busiet month of the year."
   ]
  },
  {
   "cell_type": "markdown",
   "id": "cb762771-9de6-4f8e-8020-f1571691da08",
   "metadata": {},
   "source": [
    "# Part 2 ‐ Experiment and metrics design"
   ]
  },
  {
   "cell_type": "markdown",
   "id": "81d3519a-9417-4617-82d6-209ef98cae29",
   "metadata": {},
   "source": [
    "The neighboring cities of Gotham and Metropolis have complementary circadian rhythms: on\n",
    "weekdays, Ultimate Gotham is most active at night, and Ultimate Metropolis is most active\n",
    "during the day. On weekends, there is reasonable activity in both cities."
   ]
  },
  {
   "cell_type": "markdown",
   "id": "95968d00-c7a5-481a-9bec-3cca0feb3bfb",
   "metadata": {},
   "source": [
    "However, a toll bridge, with a two way toll, between the two cities causes driver partners to tend\n",
    "to be exclusive to each city. The Ultimate managers of city operations for the two cities have\n",
    "proposed an experiment to encourage driver partners to be available in both cities, by\n",
    "reimbursing all toll costs."
   ]
  },
  {
   "cell_type": "markdown",
   "id": "19812ba4-a13b-4fcc-8231-9b8472d9a44b",
   "metadata": {},
   "source": [
    "1. What would you choose as the key measure of success of this experiment in encouraging driver partners to serve both cities, and why would you choose this metric?\n",
    "\n",
    "The key measure of success for this experiment would be the revenue produced by both cities. This would mean demand or toll fees paid for, times the amount of money for each toll per city. Drivers can be encouraged to drive both cities by charging a higher fee during the high demand times for each city and simultaneously charging a lower fee for times there is less traffic."
   ]
  },
  {
   "cell_type": "markdown",
   "id": "def89daf-6f89-4867-84df-b0c4a025a188",
   "metadata": {},
   "source": [
    "2. Describe a practical experiment you would design to compare the effectiveness of the proposed change in relation to the key measure of success. Please provide details on:"
   ]
  },
  {
   "cell_type": "markdown",
   "id": "240e3df0-a9b7-4c66-9cb1-77b68b341d10",
   "metadata": {},
   "source": [
    "a. how you will implement the experiment?\n",
    "\n",
    "First I would analyze the riders that have at least 2+ rides in the last 30 days, controlling for outliers or recognizing factors that may skew results. Second, compare the cities that are showing the most riders and with the specific times these riders are booking rides. Third, compare the times with the avg_surge and see if there is a correlation between the two."
   ]
  },
  {
   "cell_type": "markdown",
   "id": "5778955b-7fe2-4f70-b43c-36e5be23c3e3",
   "metadata": {},
   "source": [
    "b. what statistical test(s) you will conduct to verify the significance of the observation?\n",
    "\n",
    "Based on the assumptions that the data is clean and has been wrangled properly, I can use traditional statistical tools to compare the two cities. By using the means of both cities and their riders, average time can be used to find peak times which can be correlated with each other and their confidence levels/significance levels. This can then be used to find the avg_surge percentile."
   ]
  },
  {
   "cell_type": "markdown",
   "id": "6554b158-e896-4200-9995-b0af94de54f5",
   "metadata": {},
   "source": [
    "c. how you would interpret the results and provide recommendations to the city operations team along with any caveats?\n",
    "\n",
    "Based on the results I have scientifically analyzed, I would start my test by reimbursing the tolls that have been raised at a higher rate at peak times and review that action/result with the partners. After reviewing those results, we can do the same with other times that are not as popular or busy. Another starting point would be to track holidays and weekends since the popularity is high in both cities and could help return results faster."
   ]
  },
  {
   "cell_type": "markdown",
   "id": "07247bd1-bb75-4a5c-9250-584ed6292bd1",
   "metadata": {},
   "source": [
    "***Note: The two cities of Gotham and Metropolis are not in the provided dataset; however, you do not need this information to answer Part 2***"
   ]
  },
  {
   "cell_type": "markdown",
   "id": "e846c9e5-78d4-4a85-bb03-31a23bf62d5c",
   "metadata": {},
   "source": [
    "# Part 3 ‐ Predictive modeling"
   ]
  },
  {
   "cell_type": "markdown",
   "id": "a9a52f35-bf7a-443d-961e-f7fd09275987",
   "metadata": {},
   "source": [
    "### Imports"
   ]
  },
  {
   "cell_type": "code",
   "execution_count": 8,
   "id": "10880a69-66d3-46c7-a7a3-9174abe8d916",
   "metadata": {},
   "outputs": [],
   "source": [
    "from sklearn.model_selection import train_test_split\n",
    "from sklearn.model_selection import KFold\n",
    "from sklearn.model_selection import GridSearchCV\n",
    "from sklearn.model_selection import StratifiedKFold\n",
    "\n",
    "from sklearn.linear_model import LogisticRegression\n",
    "from sklearn.neighbors import KNeighborsClassifier\n",
    "from sklearn.tree import DecisionTreeClassifier\n",
    "\n",
    "from sklearn.metrics import accuracy_score\n",
    "from sklearn.metrics import confusion_matrix\n",
    "from sklearn.metrics import classification_report\n",
    "from sklearn.metrics import auc\n",
    "from sklearn.metrics import roc_curve\n",
    "\n",
    "from sklearn.preprocessing import StandardScaler\n",
    "from sklearn.pipeline import Pipeline\n",
    "from sklearn.svm import SVC\n",
    "from sklearn.ensemble import RandomForestClassifier\n",
    "\n",
    "from xgboost import XGBClassifier "
   ]
  },
  {
   "cell_type": "markdown",
   "id": "fdef933a-9916-4347-b5c1-d0228bd477d9",
   "metadata": {},
   "source": [
    "### EDA"
   ]
  },
  {
   "cell_type": "code",
   "execution_count": 9,
   "id": "bc50a9ba-fe5f-4256-b947-c79b3fd80f06",
   "metadata": {},
   "outputs": [
    {
     "data": {
      "text/html": [
       "<div>\n",
       "<style scoped>\n",
       "    .dataframe tbody tr th:only-of-type {\n",
       "        vertical-align: middle;\n",
       "    }\n",
       "\n",
       "    .dataframe tbody tr th {\n",
       "        vertical-align: top;\n",
       "    }\n",
       "\n",
       "    .dataframe thead th {\n",
       "        text-align: right;\n",
       "    }\n",
       "</style>\n",
       "<table border=\"1\" class=\"dataframe\">\n",
       "  <thead>\n",
       "    <tr style=\"text-align: right;\">\n",
       "      <th></th>\n",
       "      <th>city</th>\n",
       "      <th>trips_in_first_30_days</th>\n",
       "      <th>signup_date</th>\n",
       "      <th>avg_rating_of_driver</th>\n",
       "      <th>avg_surge</th>\n",
       "      <th>last_trip_date</th>\n",
       "      <th>phone</th>\n",
       "      <th>surge_pct</th>\n",
       "      <th>ultimate_black_user</th>\n",
       "      <th>weekday_pct</th>\n",
       "      <th>avg_dist</th>\n",
       "      <th>avg_rating_by_driver</th>\n",
       "    </tr>\n",
       "  </thead>\n",
       "  <tbody>\n",
       "    <tr>\n",
       "      <th>0</th>\n",
       "      <td>King's Landing</td>\n",
       "      <td>4</td>\n",
       "      <td>2014-01-25</td>\n",
       "      <td>4.7</td>\n",
       "      <td>1.10</td>\n",
       "      <td>2014-06-17</td>\n",
       "      <td>iPhone</td>\n",
       "      <td>15.4</td>\n",
       "      <td>True</td>\n",
       "      <td>46.2</td>\n",
       "      <td>3.67</td>\n",
       "      <td>5.0</td>\n",
       "    </tr>\n",
       "    <tr>\n",
       "      <th>1</th>\n",
       "      <td>Astapor</td>\n",
       "      <td>0</td>\n",
       "      <td>2014-01-29</td>\n",
       "      <td>5.0</td>\n",
       "      <td>1.00</td>\n",
       "      <td>2014-05-05</td>\n",
       "      <td>Android</td>\n",
       "      <td>0.0</td>\n",
       "      <td>False</td>\n",
       "      <td>50.0</td>\n",
       "      <td>8.26</td>\n",
       "      <td>5.0</td>\n",
       "    </tr>\n",
       "    <tr>\n",
       "      <th>2</th>\n",
       "      <td>Astapor</td>\n",
       "      <td>3</td>\n",
       "      <td>2014-01-06</td>\n",
       "      <td>4.3</td>\n",
       "      <td>1.00</td>\n",
       "      <td>2014-01-07</td>\n",
       "      <td>iPhone</td>\n",
       "      <td>0.0</td>\n",
       "      <td>False</td>\n",
       "      <td>100.0</td>\n",
       "      <td>0.77</td>\n",
       "      <td>5.0</td>\n",
       "    </tr>\n",
       "    <tr>\n",
       "      <th>3</th>\n",
       "      <td>King's Landing</td>\n",
       "      <td>9</td>\n",
       "      <td>2014-01-10</td>\n",
       "      <td>4.6</td>\n",
       "      <td>1.14</td>\n",
       "      <td>2014-06-29</td>\n",
       "      <td>iPhone</td>\n",
       "      <td>20.0</td>\n",
       "      <td>True</td>\n",
       "      <td>80.0</td>\n",
       "      <td>2.36</td>\n",
       "      <td>4.9</td>\n",
       "    </tr>\n",
       "    <tr>\n",
       "      <th>4</th>\n",
       "      <td>Winterfell</td>\n",
       "      <td>14</td>\n",
       "      <td>2014-01-27</td>\n",
       "      <td>4.4</td>\n",
       "      <td>1.19</td>\n",
       "      <td>2014-03-15</td>\n",
       "      <td>Android</td>\n",
       "      <td>11.8</td>\n",
       "      <td>False</td>\n",
       "      <td>82.4</td>\n",
       "      <td>3.13</td>\n",
       "      <td>4.9</td>\n",
       "    </tr>\n",
       "    <tr>\n",
       "      <th>5</th>\n",
       "      <td>Winterfell</td>\n",
       "      <td>2</td>\n",
       "      <td>2014-01-09</td>\n",
       "      <td>3.5</td>\n",
       "      <td>1.00</td>\n",
       "      <td>2014-06-06</td>\n",
       "      <td>iPhone</td>\n",
       "      <td>0.0</td>\n",
       "      <td>True</td>\n",
       "      <td>100.0</td>\n",
       "      <td>10.56</td>\n",
       "      <td>5.0</td>\n",
       "    </tr>\n",
       "    <tr>\n",
       "      <th>6</th>\n",
       "      <td>Astapor</td>\n",
       "      <td>1</td>\n",
       "      <td>2014-01-24</td>\n",
       "      <td>NaN</td>\n",
       "      <td>1.00</td>\n",
       "      <td>2014-01-25</td>\n",
       "      <td>Android</td>\n",
       "      <td>0.0</td>\n",
       "      <td>False</td>\n",
       "      <td>100.0</td>\n",
       "      <td>3.95</td>\n",
       "      <td>4.0</td>\n",
       "    </tr>\n",
       "    <tr>\n",
       "      <th>7</th>\n",
       "      <td>Winterfell</td>\n",
       "      <td>2</td>\n",
       "      <td>2014-01-28</td>\n",
       "      <td>5.0</td>\n",
       "      <td>1.00</td>\n",
       "      <td>2014-01-29</td>\n",
       "      <td>iPhone</td>\n",
       "      <td>0.0</td>\n",
       "      <td>False</td>\n",
       "      <td>100.0</td>\n",
       "      <td>2.04</td>\n",
       "      <td>5.0</td>\n",
       "    </tr>\n",
       "    <tr>\n",
       "      <th>8</th>\n",
       "      <td>Winterfell</td>\n",
       "      <td>2</td>\n",
       "      <td>2014-01-21</td>\n",
       "      <td>4.5</td>\n",
       "      <td>1.00</td>\n",
       "      <td>2014-02-01</td>\n",
       "      <td>Android</td>\n",
       "      <td>0.0</td>\n",
       "      <td>False</td>\n",
       "      <td>100.0</td>\n",
       "      <td>4.36</td>\n",
       "      <td>5.0</td>\n",
       "    </tr>\n",
       "    <tr>\n",
       "      <th>9</th>\n",
       "      <td>Winterfell</td>\n",
       "      <td>1</td>\n",
       "      <td>2014-01-03</td>\n",
       "      <td>NaN</td>\n",
       "      <td>1.00</td>\n",
       "      <td>2014-01-05</td>\n",
       "      <td>Android</td>\n",
       "      <td>0.0</td>\n",
       "      <td>False</td>\n",
       "      <td>0.0</td>\n",
       "      <td>2.37</td>\n",
       "      <td>5.0</td>\n",
       "    </tr>\n",
       "  </tbody>\n",
       "</table>\n",
       "</div>"
      ],
      "text/plain": [
       "             city  trips_in_first_30_days signup_date  avg_rating_of_driver  \\\n",
       "0  King's Landing                       4  2014-01-25                   4.7   \n",
       "1         Astapor                       0  2014-01-29                   5.0   \n",
       "2         Astapor                       3  2014-01-06                   4.3   \n",
       "3  King's Landing                       9  2014-01-10                   4.6   \n",
       "4      Winterfell                      14  2014-01-27                   4.4   \n",
       "5      Winterfell                       2  2014-01-09                   3.5   \n",
       "6         Astapor                       1  2014-01-24                   NaN   \n",
       "7      Winterfell                       2  2014-01-28                   5.0   \n",
       "8      Winterfell                       2  2014-01-21                   4.5   \n",
       "9      Winterfell                       1  2014-01-03                   NaN   \n",
       "\n",
       "   avg_surge last_trip_date    phone  surge_pct  ultimate_black_user  \\\n",
       "0       1.10     2014-06-17   iPhone       15.4                 True   \n",
       "1       1.00     2014-05-05  Android        0.0                False   \n",
       "2       1.00     2014-01-07   iPhone        0.0                False   \n",
       "3       1.14     2014-06-29   iPhone       20.0                 True   \n",
       "4       1.19     2014-03-15  Android       11.8                False   \n",
       "5       1.00     2014-06-06   iPhone        0.0                 True   \n",
       "6       1.00     2014-01-25  Android        0.0                False   \n",
       "7       1.00     2014-01-29   iPhone        0.0                False   \n",
       "8       1.00     2014-02-01  Android        0.0                False   \n",
       "9       1.00     2014-01-05  Android        0.0                False   \n",
       "\n",
       "   weekday_pct  avg_dist  avg_rating_by_driver  \n",
       "0         46.2      3.67                   5.0  \n",
       "1         50.0      8.26                   5.0  \n",
       "2        100.0      0.77                   5.0  \n",
       "3         80.0      2.36                   4.9  \n",
       "4         82.4      3.13                   4.9  \n",
       "5        100.0     10.56                   5.0  \n",
       "6        100.0      3.95                   4.0  \n",
       "7        100.0      2.04                   5.0  \n",
       "8        100.0      4.36                   5.0  \n",
       "9          0.0      2.37                   5.0  "
      ]
     },
     "execution_count": 9,
     "metadata": {},
     "output_type": "execute_result"
    }
   ],
   "source": [
    "# Convert json file to dataframe\n",
    "with open('raw_data/ultimate_data_challenge.json', 'r') as file:\n",
    "    data = json.load(file)\n",
    "    \n",
    "df2 = pd.DataFrame(data)\n",
    "df2.head(10)"
   ]
  },
  {
   "cell_type": "code",
   "execution_count": 10,
   "id": "16d210e6-a105-4cb1-bf12-9ed71f7bf770",
   "metadata": {},
   "outputs": [
    {
     "name": "stdout",
     "output_type": "stream",
     "text": [
      "<class 'pandas.core.frame.DataFrame'>\n",
      "RangeIndex: 50000 entries, 0 to 49999\n",
      "Data columns (total 12 columns):\n",
      " #   Column                  Non-Null Count  Dtype  \n",
      "---  ------                  --------------  -----  \n",
      " 0   city                    50000 non-null  object \n",
      " 1   trips_in_first_30_days  50000 non-null  int64  \n",
      " 2   signup_date             50000 non-null  object \n",
      " 3   avg_rating_of_driver    41878 non-null  float64\n",
      " 4   avg_surge               50000 non-null  float64\n",
      " 5   last_trip_date          50000 non-null  object \n",
      " 6   phone                   49604 non-null  object \n",
      " 7   surge_pct               50000 non-null  float64\n",
      " 8   ultimate_black_user     50000 non-null  bool   \n",
      " 9   weekday_pct             50000 non-null  float64\n",
      " 10  avg_dist                50000 non-null  float64\n",
      " 11  avg_rating_by_driver    49799 non-null  float64\n",
      "dtypes: bool(1), float64(6), int64(1), object(4)\n",
      "memory usage: 4.2+ MB\n"
     ]
    }
   ],
   "source": [
    "# Review data objects\n",
    "df2.info()"
   ]
  },
  {
   "cell_type": "code",
   "execution_count": 11,
   "id": "c754fba8-238c-4496-abc5-2b3309c711d0",
   "metadata": {},
   "outputs": [
    {
     "data": {
      "text/plain": [
       "city                              object\n",
       "trips_in_first_30_days             int64\n",
       "signup_date                       object\n",
       "avg_rating_of_driver             float64\n",
       "avg_surge                        float64\n",
       "last_trip_date            datetime64[ns]\n",
       "phone                             object\n",
       "surge_pct                        float64\n",
       "ultimate_black_user                 bool\n",
       "weekday_pct                      float64\n",
       "avg_dist                         float64\n",
       "avg_rating_by_driver             float64\n",
       "dtype: object"
      ]
     },
     "execution_count": 11,
     "metadata": {},
     "output_type": "execute_result"
    }
   ],
   "source": [
    "# Convert last_trip_date to a datetime type\n",
    "df2['last_trip_date'] = pd.to_datetime(df2['last_trip_date'])\n",
    "df2.dtypes"
   ]
  },
  {
   "cell_type": "code",
   "execution_count": 12,
   "id": "3c0ce131-82ba-46ae-b3d3-220fa1ccad11",
   "metadata": {},
   "outputs": [
    {
     "name": "stdout",
     "output_type": "stream",
     "text": [
      "<class 'pandas.core.frame.DataFrame'>\n",
      "Int64Index: 34610 entries, 0 to 49998\n",
      "Data columns (total 12 columns):\n",
      " #   Column                  Non-Null Count  Dtype         \n",
      "---  ------                  --------------  -----         \n",
      " 0   city                    34610 non-null  object        \n",
      " 1   trips_in_first_30_days  34610 non-null  int64         \n",
      " 2   signup_date             34610 non-null  object        \n",
      " 3   avg_rating_of_driver    30237 non-null  float64       \n",
      " 4   avg_surge               34610 non-null  float64       \n",
      " 5   last_trip_date          34610 non-null  datetime64[ns]\n",
      " 6   phone                   34292 non-null  object        \n",
      " 7   surge_pct               34610 non-null  float64       \n",
      " 8   ultimate_black_user     34610 non-null  bool          \n",
      " 9   weekday_pct             34610 non-null  float64       \n",
      " 10  avg_dist                34610 non-null  float64       \n",
      " 11  avg_rating_by_driver    34503 non-null  float64       \n",
      "dtypes: bool(1), datetime64[ns](1), float64(6), int64(1), object(3)\n",
      "memory usage: 3.2+ MB\n"
     ]
    }
   ],
   "source": [
    "# Create dataframe where trips_in_first_30_days are filtered to > 0\n",
    "retained = df2[df2['trips_in_first_30_days'] != 0]\n",
    "retained.info()"
   ]
  },
  {
   "cell_type": "code",
   "execution_count": 13,
   "id": "a643a709-4239-4080-8ee6-626d6626ed2d",
   "metadata": {},
   "outputs": [
    {
     "name": "stdout",
     "output_type": "stream",
     "text": [
      "Retained users with more than 0 trips in the first 30 days: 69.22 %\n"
     ]
    }
   ],
   "source": [
    "print('Retained users with more than 0 trips in the first 30 days:', (len(retained)/len(df2))*100, '%')"
   ]
  },
  {
   "cell_type": "markdown",
   "id": "86642ee1-9509-458e-af48-05e9f63887ee",
   "metadata": {},
   "source": [
    "As a result of filtering the original total amount of users, aproximately 69% observed users were retained"
   ]
  },
  {
   "cell_type": "markdown",
   "id": "ce3a39d7-6470-4907-adaf-065a86bee941",
   "metadata": {},
   "source": [
    "### Build Predictive Model"
   ]
  },
  {
   "cell_type": "code",
   "execution_count": 14,
   "id": "127a38d9-8b06-43ce-84fd-1c6a1eea351a",
   "metadata": {},
   "outputs": [
    {
     "name": "stdout",
     "output_type": "stream",
     "text": [
      "<class 'pandas.core.frame.DataFrame'>\n",
      "Int64Index: 34610 entries, 0 to 49998\n",
      "Data columns (total 13 columns):\n",
      " #   Column                  Non-Null Count  Dtype         \n",
      "---  ------                  --------------  -----         \n",
      " 0   city                    34610 non-null  object        \n",
      " 1   trips_in_first_30_days  34610 non-null  int64         \n",
      " 2   signup_date             34610 non-null  datetime64[ns]\n",
      " 3   avg_rating_of_driver    30237 non-null  float64       \n",
      " 4   avg_surge               34610 non-null  float64       \n",
      " 5   last_trip_date          34610 non-null  datetime64[ns]\n",
      " 6   phone                   34292 non-null  object        \n",
      " 7   surge_pct               34610 non-null  float64       \n",
      " 8   ultimate_black_user     34610 non-null  bool          \n",
      " 9   weekday_pct             34610 non-null  float64       \n",
      " 10  avg_dist                34610 non-null  float64       \n",
      " 11  avg_rating_by_driver    34503 non-null  float64       \n",
      " 12  active                  34610 non-null  int64         \n",
      "dtypes: bool(1), datetime64[ns](2), float64(6), int64(2), object(2)\n",
      "memory usage: 3.5+ MB\n",
      "None\n"
     ]
    }
   ],
   "source": [
    "# Convert last_trip_date to a datetime type\n",
    "retained['signup_date'] = pd.to_datetime(retained['signup_date'])\n",
    "retained['active'] = np.where(((retained['last_trip_date'] - retained['signup_date']) / np.timedelta64(1, 'M')) > 5, 1, 0)\n",
    "print(retained.info())"
   ]
  },
  {
   "cell_type": "code",
   "execution_count": 15,
   "id": "d29d7cf2-cc03-4c99-bddf-0e0127f9bddc",
   "metadata": {},
   "outputs": [
    {
     "name": "stdout",
     "output_type": "stream",
     "text": [
      "<class 'pandas.core.frame.DataFrame'>\n",
      "Int64Index: 8121 entries, 3 to 49993\n",
      "Data columns (total 13 columns):\n",
      " #   Column                  Non-Null Count  Dtype         \n",
      "---  ------                  --------------  -----         \n",
      " 0   city                    8121 non-null   object        \n",
      " 1   trips_in_first_30_days  8121 non-null   int64         \n",
      " 2   signup_date             8121 non-null   datetime64[ns]\n",
      " 3   avg_rating_of_driver    7868 non-null   float64       \n",
      " 4   avg_surge               8121 non-null   float64       \n",
      " 5   last_trip_date          8121 non-null   datetime64[ns]\n",
      " 6   phone                   8067 non-null   object        \n",
      " 7   surge_pct               8121 non-null   float64       \n",
      " 8   ultimate_black_user     8121 non-null   bool          \n",
      " 9   weekday_pct             8121 non-null   float64       \n",
      " 10  avg_dist                8121 non-null   float64       \n",
      " 11  avg_rating_by_driver    8120 non-null   float64       \n",
      " 12  active                  8121 non-null   int64         \n",
      "dtypes: bool(1), datetime64[ns](2), float64(6), int64(2), object(2)\n",
      "memory usage: 832.7+ KB\n",
      "Active users:  23.46431667148223 %\n"
     ]
    }
   ],
   "source": [
    "active_users = retained[retained['active']==1]\n",
    "active_users.info()\n",
    "print('Active users: ', (len(active_users)/len(retained))*100, '%')"
   ]
  },
  {
   "cell_type": "code",
   "execution_count": 16,
   "id": "1bf46580-5a56-42c0-ad3e-5d827fffd32d",
   "metadata": {},
   "outputs": [
    {
     "name": "stdout",
     "output_type": "stream",
     "text": [
      "Active users:  23.46431667148223 %\n"
     ]
    }
   ],
   "source": [
    "print('Active users: ', (len(active_users)/len(retained))*100, '%')"
   ]
  },
  {
   "cell_type": "code",
   "execution_count": 17,
   "id": "4a02f76f-8e79-46d7-a189-f5f25bdb607a",
   "metadata": {},
   "outputs": [
    {
     "data": {
      "text/html": [
       "<div>\n",
       "<style scoped>\n",
       "    .dataframe tbody tr th:only-of-type {\n",
       "        vertical-align: middle;\n",
       "    }\n",
       "\n",
       "    .dataframe tbody tr th {\n",
       "        vertical-align: top;\n",
       "    }\n",
       "\n",
       "    .dataframe thead th {\n",
       "        text-align: right;\n",
       "    }\n",
       "</style>\n",
       "<table border=\"1\" class=\"dataframe\">\n",
       "  <thead>\n",
       "    <tr style=\"text-align: right;\">\n",
       "      <th></th>\n",
       "      <th>city</th>\n",
       "      <th>trips_in_first_30_days</th>\n",
       "      <th>signup_date</th>\n",
       "      <th>avg_rating_of_driver</th>\n",
       "      <th>avg_surge</th>\n",
       "      <th>last_trip_date</th>\n",
       "      <th>phone</th>\n",
       "      <th>surge_pct</th>\n",
       "      <th>ultimate_black_user</th>\n",
       "      <th>weekday_pct</th>\n",
       "      <th>avg_dist</th>\n",
       "      <th>avg_rating_by_driver</th>\n",
       "      <th>active</th>\n",
       "    </tr>\n",
       "  </thead>\n",
       "  <tbody>\n",
       "    <tr>\n",
       "      <th>0</th>\n",
       "      <td>King's Landing</td>\n",
       "      <td>4</td>\n",
       "      <td>2014-01-25</td>\n",
       "      <td>4.7</td>\n",
       "      <td>1.10</td>\n",
       "      <td>2014-06-17</td>\n",
       "      <td>iPhone</td>\n",
       "      <td>15.4</td>\n",
       "      <td>1</td>\n",
       "      <td>46.2</td>\n",
       "      <td>3.67</td>\n",
       "      <td>5.0</td>\n",
       "      <td>0</td>\n",
       "    </tr>\n",
       "    <tr>\n",
       "      <th>2</th>\n",
       "      <td>Astapor</td>\n",
       "      <td>3</td>\n",
       "      <td>2014-01-06</td>\n",
       "      <td>4.3</td>\n",
       "      <td>1.00</td>\n",
       "      <td>2014-01-07</td>\n",
       "      <td>iPhone</td>\n",
       "      <td>0.0</td>\n",
       "      <td>0</td>\n",
       "      <td>100.0</td>\n",
       "      <td>0.77</td>\n",
       "      <td>5.0</td>\n",
       "      <td>0</td>\n",
       "    </tr>\n",
       "    <tr>\n",
       "      <th>3</th>\n",
       "      <td>King's Landing</td>\n",
       "      <td>9</td>\n",
       "      <td>2014-01-10</td>\n",
       "      <td>4.6</td>\n",
       "      <td>1.14</td>\n",
       "      <td>2014-06-29</td>\n",
       "      <td>iPhone</td>\n",
       "      <td>20.0</td>\n",
       "      <td>1</td>\n",
       "      <td>80.0</td>\n",
       "      <td>2.36</td>\n",
       "      <td>4.9</td>\n",
       "      <td>1</td>\n",
       "    </tr>\n",
       "    <tr>\n",
       "      <th>4</th>\n",
       "      <td>Winterfell</td>\n",
       "      <td>14</td>\n",
       "      <td>2014-01-27</td>\n",
       "      <td>4.4</td>\n",
       "      <td>1.19</td>\n",
       "      <td>2014-03-15</td>\n",
       "      <td>Android</td>\n",
       "      <td>11.8</td>\n",
       "      <td>0</td>\n",
       "      <td>82.4</td>\n",
       "      <td>3.13</td>\n",
       "      <td>4.9</td>\n",
       "      <td>0</td>\n",
       "    </tr>\n",
       "    <tr>\n",
       "      <th>5</th>\n",
       "      <td>Winterfell</td>\n",
       "      <td>2</td>\n",
       "      <td>2014-01-09</td>\n",
       "      <td>3.5</td>\n",
       "      <td>1.00</td>\n",
       "      <td>2014-06-06</td>\n",
       "      <td>iPhone</td>\n",
       "      <td>0.0</td>\n",
       "      <td>1</td>\n",
       "      <td>100.0</td>\n",
       "      <td>10.56</td>\n",
       "      <td>5.0</td>\n",
       "      <td>0</td>\n",
       "    </tr>\n",
       "  </tbody>\n",
       "</table>\n",
       "</div>"
      ],
      "text/plain": [
       "             city  trips_in_first_30_days signup_date  avg_rating_of_driver  \\\n",
       "0  King's Landing                       4  2014-01-25                   4.7   \n",
       "2         Astapor                       3  2014-01-06                   4.3   \n",
       "3  King's Landing                       9  2014-01-10                   4.6   \n",
       "4      Winterfell                      14  2014-01-27                   4.4   \n",
       "5      Winterfell                       2  2014-01-09                   3.5   \n",
       "\n",
       "   avg_surge last_trip_date    phone  surge_pct  ultimate_black_user  \\\n",
       "0       1.10     2014-06-17   iPhone       15.4                    1   \n",
       "2       1.00     2014-01-07   iPhone        0.0                    0   \n",
       "3       1.14     2014-06-29   iPhone       20.0                    1   \n",
       "4       1.19     2014-03-15  Android       11.8                    0   \n",
       "5       1.00     2014-06-06   iPhone        0.0                    1   \n",
       "\n",
       "   weekday_pct  avg_dist  avg_rating_by_driver  active  \n",
       "0         46.2      3.67                   5.0       0  \n",
       "2        100.0      0.77                   5.0       0  \n",
       "3         80.0      2.36                   4.9       1  \n",
       "4         82.4      3.13                   4.9       0  \n",
       "5        100.0     10.56                   5.0       0  "
      ]
     },
     "execution_count": 17,
     "metadata": {},
     "output_type": "execute_result"
    }
   ],
   "source": [
    "# Convert ultimate_black_user to binary\n",
    "retained['ultimate_black_user'] = retained['ultimate_black_user'].astype(int)\n",
    "retained.head()"
   ]
  },
  {
   "cell_type": "code",
   "execution_count": 18,
   "id": "30f514db-e454-4a4f-947e-b0264d1e7525",
   "metadata": {},
   "outputs": [
    {
     "name": "stdout",
     "output_type": "stream",
     "text": [
      "<class 'pandas.core.frame.DataFrame'>\n",
      "Int64Index: 30158 entries, 0 to 49998\n",
      "Data columns (total 13 columns):\n",
      " #   Column                  Non-Null Count  Dtype         \n",
      "---  ------                  --------------  -----         \n",
      " 0   city                    30158 non-null  object        \n",
      " 1   trips_in_first_30_days  30158 non-null  int64         \n",
      " 2   signup_date             30158 non-null  datetime64[ns]\n",
      " 3   avg_rating_of_driver    30158 non-null  float64       \n",
      " 4   avg_surge               30158 non-null  float64       \n",
      " 5   last_trip_date          30158 non-null  datetime64[ns]\n",
      " 6   phone                   30158 non-null  object        \n",
      " 7   surge_pct               30158 non-null  float64       \n",
      " 8   ultimate_black_user     30158 non-null  int64         \n",
      " 9   weekday_pct             30158 non-null  float64       \n",
      " 10  avg_dist                30158 non-null  float64       \n",
      " 11  avg_rating_by_driver    30158 non-null  float64       \n",
      " 12  active                  30158 non-null  int64         \n",
      "dtypes: datetime64[ns](2), float64(6), int64(3), object(2)\n",
      "memory usage: 3.2+ MB\n"
     ]
    }
   ],
   "source": [
    "# Drop all nas\n",
    "retained['phone'] = retained['phone'].fillna('Other')\n",
    "retained.dropna(inplace=True)\n",
    "retained.info()"
   ]
  },
  {
   "cell_type": "code",
   "execution_count": 19,
   "id": "08476d94-526c-42e6-879e-404d138e8bac",
   "metadata": {},
   "outputs": [
    {
     "data": {
      "text/html": [
       "<div>\n",
       "<style scoped>\n",
       "    .dataframe tbody tr th:only-of-type {\n",
       "        vertical-align: middle;\n",
       "    }\n",
       "\n",
       "    .dataframe tbody tr th {\n",
       "        vertical-align: top;\n",
       "    }\n",
       "\n",
       "    .dataframe thead th {\n",
       "        text-align: right;\n",
       "    }\n",
       "</style>\n",
       "<table border=\"1\" class=\"dataframe\">\n",
       "  <thead>\n",
       "    <tr style=\"text-align: right;\">\n",
       "      <th></th>\n",
       "      <th>trips_in_first_30_days</th>\n",
       "      <th>avg_rating_of_driver</th>\n",
       "      <th>avg_surge</th>\n",
       "      <th>surge_pct</th>\n",
       "      <th>ultimate_black_user</th>\n",
       "      <th>weekday_pct</th>\n",
       "      <th>avg_dist</th>\n",
       "      <th>avg_rating_by_driver</th>\n",
       "      <th>active</th>\n",
       "      <th>city_Astapor</th>\n",
       "      <th>city_King's Landing</th>\n",
       "      <th>city_Winterfell</th>\n",
       "      <th>phone_Android</th>\n",
       "      <th>phone_Other</th>\n",
       "      <th>phone_iPhone</th>\n",
       "    </tr>\n",
       "  </thead>\n",
       "  <tbody>\n",
       "    <tr>\n",
       "      <th>0</th>\n",
       "      <td>4</td>\n",
       "      <td>4.7</td>\n",
       "      <td>1.10</td>\n",
       "      <td>15.4</td>\n",
       "      <td>1</td>\n",
       "      <td>46.2</td>\n",
       "      <td>3.67</td>\n",
       "      <td>5.0</td>\n",
       "      <td>0</td>\n",
       "      <td>0</td>\n",
       "      <td>1</td>\n",
       "      <td>0</td>\n",
       "      <td>0</td>\n",
       "      <td>0</td>\n",
       "      <td>1</td>\n",
       "    </tr>\n",
       "    <tr>\n",
       "      <th>2</th>\n",
       "      <td>3</td>\n",
       "      <td>4.3</td>\n",
       "      <td>1.00</td>\n",
       "      <td>0.0</td>\n",
       "      <td>0</td>\n",
       "      <td>100.0</td>\n",
       "      <td>0.77</td>\n",
       "      <td>5.0</td>\n",
       "      <td>0</td>\n",
       "      <td>1</td>\n",
       "      <td>0</td>\n",
       "      <td>0</td>\n",
       "      <td>0</td>\n",
       "      <td>0</td>\n",
       "      <td>1</td>\n",
       "    </tr>\n",
       "    <tr>\n",
       "      <th>3</th>\n",
       "      <td>9</td>\n",
       "      <td>4.6</td>\n",
       "      <td>1.14</td>\n",
       "      <td>20.0</td>\n",
       "      <td>1</td>\n",
       "      <td>80.0</td>\n",
       "      <td>2.36</td>\n",
       "      <td>4.9</td>\n",
       "      <td>1</td>\n",
       "      <td>0</td>\n",
       "      <td>1</td>\n",
       "      <td>0</td>\n",
       "      <td>0</td>\n",
       "      <td>0</td>\n",
       "      <td>1</td>\n",
       "    </tr>\n",
       "    <tr>\n",
       "      <th>4</th>\n",
       "      <td>14</td>\n",
       "      <td>4.4</td>\n",
       "      <td>1.19</td>\n",
       "      <td>11.8</td>\n",
       "      <td>0</td>\n",
       "      <td>82.4</td>\n",
       "      <td>3.13</td>\n",
       "      <td>4.9</td>\n",
       "      <td>0</td>\n",
       "      <td>0</td>\n",
       "      <td>0</td>\n",
       "      <td>1</td>\n",
       "      <td>1</td>\n",
       "      <td>0</td>\n",
       "      <td>0</td>\n",
       "    </tr>\n",
       "    <tr>\n",
       "      <th>5</th>\n",
       "      <td>2</td>\n",
       "      <td>3.5</td>\n",
       "      <td>1.00</td>\n",
       "      <td>0.0</td>\n",
       "      <td>1</td>\n",
       "      <td>100.0</td>\n",
       "      <td>10.56</td>\n",
       "      <td>5.0</td>\n",
       "      <td>0</td>\n",
       "      <td>0</td>\n",
       "      <td>0</td>\n",
       "      <td>1</td>\n",
       "      <td>0</td>\n",
       "      <td>0</td>\n",
       "      <td>1</td>\n",
       "    </tr>\n",
       "  </tbody>\n",
       "</table>\n",
       "</div>"
      ],
      "text/plain": [
       "   trips_in_first_30_days  avg_rating_of_driver  avg_surge  surge_pct  \\\n",
       "0                       4                   4.7       1.10       15.4   \n",
       "2                       3                   4.3       1.00        0.0   \n",
       "3                       9                   4.6       1.14       20.0   \n",
       "4                      14                   4.4       1.19       11.8   \n",
       "5                       2                   3.5       1.00        0.0   \n",
       "\n",
       "   ultimate_black_user  weekday_pct  avg_dist  avg_rating_by_driver  active  \\\n",
       "0                    1         46.2      3.67                   5.0       0   \n",
       "2                    0        100.0      0.77                   5.0       0   \n",
       "3                    1         80.0      2.36                   4.9       1   \n",
       "4                    0         82.4      3.13                   4.9       0   \n",
       "5                    1        100.0     10.56                   5.0       0   \n",
       "\n",
       "   city_Astapor  city_King's Landing  city_Winterfell  phone_Android  \\\n",
       "0             0                    1                0              0   \n",
       "2             1                    0                0              0   \n",
       "3             0                    1                0              0   \n",
       "4             0                    0                1              1   \n",
       "5             0                    0                1              0   \n",
       "\n",
       "   phone_Other  phone_iPhone  \n",
       "0            0             1  \n",
       "2            0             1  \n",
       "3            0             1  \n",
       "4            0             0  \n",
       "5            0             1  "
      ]
     },
     "execution_count": 19,
     "metadata": {},
     "output_type": "execute_result"
    }
   ],
   "source": [
    "# Get dummies and drop all non numerical features\n",
    "retained = pd.get_dummies(retained)\n",
    "retained.drop(['signup_date', 'last_trip_date'], axis=1, inplace=True)\n",
    "retained.head()"
   ]
  },
  {
   "cell_type": "code",
   "execution_count": 20,
   "id": "7940f30f-1f50-4d30-9f06-030c04f8eabc",
   "metadata": {},
   "outputs": [
    {
     "name": "stdout",
     "output_type": "stream",
     "text": [
      "(30158, 14) (30158,)\n"
     ]
    }
   ],
   "source": [
    "# Create X and y features for modeling\n",
    "X = retained.drop(['active'], axis=1)\n",
    "y = retained['active']\n",
    "print(X.shape, y.shape)"
   ]
  },
  {
   "cell_type": "code",
   "execution_count": 21,
   "id": "444f54a8-6b4e-4793-a135-36445ae29fa7",
   "metadata": {},
   "outputs": [
    {
     "name": "stdout",
     "output_type": "stream",
     "text": [
      "<class 'pandas.core.frame.DataFrame'>\n",
      "Int64Index: 30158 entries, 0 to 49998\n",
      "Data columns (total 14 columns):\n",
      " #   Column                  Non-Null Count  Dtype  \n",
      "---  ------                  --------------  -----  \n",
      " 0   trips_in_first_30_days  30158 non-null  int64  \n",
      " 1   avg_rating_of_driver    30158 non-null  float64\n",
      " 2   avg_surge               30158 non-null  float64\n",
      " 3   surge_pct               30158 non-null  float64\n",
      " 4   ultimate_black_user     30158 non-null  int64  \n",
      " 5   weekday_pct             30158 non-null  float64\n",
      " 6   avg_dist                30158 non-null  float64\n",
      " 7   avg_rating_by_driver    30158 non-null  float64\n",
      " 8   city_Astapor            30158 non-null  uint8  \n",
      " 9   city_King's Landing     30158 non-null  uint8  \n",
      " 10  city_Winterfell         30158 non-null  uint8  \n",
      " 11  phone_Android           30158 non-null  uint8  \n",
      " 12  phone_Other             30158 non-null  uint8  \n",
      " 13  phone_iPhone            30158 non-null  uint8  \n",
      "dtypes: float64(6), int64(2), uint8(6)\n",
      "memory usage: 2.2 MB\n"
     ]
    }
   ],
   "source": [
    "# Check all features are numerical\n",
    "X.info()"
   ]
  },
  {
   "cell_type": "code",
   "execution_count": 22,
   "id": "8c6ae43b-6577-4bde-a80b-928de5ac0c10",
   "metadata": {},
   "outputs": [],
   "source": [
    "# Create function for building and plotting model\n",
    "def train_test_model(X, y, model, params, test_size=.2, random_state=32):\n",
    "    \n",
    "    X_train, X_test, y_train, y_test = train_test_split(X, y, test_size=test_size, random_state=random_state)\n",
    "    \n",
    "    model_cv = GridSearchCV(model, param_grid=params, cv=5)\n",
    "    \n",
    "    model_cv.fit(X_train, y_train)\n",
    "    \n",
    "    y_pred = model_cv.predict(X_test)\n",
    "    \n",
    "    y_pred_prob = model_cv.predict_proba(X_test)[:,1]\n",
    "    \n",
    "    fpr, tpr, thresholds = roc_curve(y_test, y_pred_prob)\n",
    "    \n",
    "    # Plot ROC curve\n",
    "    plt.plot([0, 1], [0, 1], 'k--')\n",
    "    plt.plot(fpr, tpr, label='ROC curve (area = %0.2f)' % auc(fpr,tpr))\n",
    "    plt.xlabel('False Positive Rate')\n",
    "    plt.ylabel('True Positive Rate')\n",
    "    plt.xlim([0.0, 1.0])\n",
    "    plt.ylim([0.0, 1.05])\n",
    "    plt.title('ROC Curve')\n",
    "    plt.legend(loc=\"lower right\")\n",
    "    plt.show();\n",
    "    \n",
    "    # Print the optimal parameters and best score\n",
    "    print(\"Tuned Hyperparameter(s): {}\".format(model_cv.best_params_))\n",
    "    print(\"Tuned Accuracy Score: {}\".format(model_cv.best_score_))\n",
    "    print(classification_report(y_test, y_pred))"
   ]
  },
  {
   "cell_type": "code",
   "execution_count": 23,
   "id": "c0d1ddf6-694f-4065-91e3-43cbeb8eb8e4",
   "metadata": {},
   "outputs": [
    {
     "data": {
      "image/png": "[encoded data removed]",
      "text/plain": [
       "<Figure size 1080x540 with 1 Axes>"
      ]
     },
     "metadata": {
      "needs_background": "light"
     },
     "output_type": "display_data"
    },
    {
     "name": "stdout",
     "output_type": "stream",
     "text": [
      "Tuned Hyperparameter(s): {'C': 143844.988828766, 'penalty': 'l2'}\n",
      "Tuned Accuracy Score: 0.7538756433738666\n",
      "              precision    recall  f1-score   support\n",
      "\n",
      "           0       0.77      0.95      0.85      4467\n",
      "           1       0.58      0.21      0.30      1565\n",
      "\n",
      "    accuracy                           0.76      6032\n",
      "   macro avg       0.68      0.58      0.58      6032\n",
      "weighted avg       0.72      0.76      0.71      6032\n",
      "\n"
     ]
    }
   ],
   "source": [
    "# Build model\n",
    "logreg = LogisticRegression()\n",
    "c_space = np.logspace(-10, 8, 20) # Covers a WIDE range of possinle C values\n",
    "logreg_param_grid = {'C': c_space, 'penalty': ['l1', 'l2']}\n",
    "\n",
    "train_test_model(X, y, logreg, logreg_param_grid)"
   ]
  },
  {
   "cell_type": "code",
   "execution_count": 24,
   "id": "b95f45da-436e-42f8-9834-ff6eda22d80f",
   "metadata": {},
   "outputs": [
    {
     "data": {
      "image/png": "[encoded data removed]",
      "text/plain": [
       "<Figure size 1080x540 with 1 Axes>"
      ]
     },
     "metadata": {
      "needs_background": "light"
     },
     "output_type": "display_data"
    },
    {
     "name": "stdout",
     "output_type": "stream",
     "text": [
      "Tuned Hyperparameter(s): {'n_neighbors': 6}\n",
      "Tuned Accuracy Score: 0.7523005138401878\n",
      "              precision    recall  f1-score   support\n",
      "\n",
      "           0       0.79      0.91      0.85      4467\n",
      "           1       0.54      0.29      0.38      1565\n",
      "\n",
      "    accuracy                           0.75      6032\n",
      "   macro avg       0.66      0.60      0.61      6032\n",
      "weighted avg       0.72      0.75      0.72      6032\n",
      "\n"
     ]
    }
   ],
   "source": [
    "# Build K Neigbors model\n",
    "knn = KNeighborsClassifier()\n",
    "N = [1,2,3,4,5,6,7]\n",
    "knn_param_grid = {'n_neighbors': N}\n",
    "train_test_model(X, y, knn, knn_param_grid)"
   ]
  },
  {
   "cell_type": "code",
   "execution_count": null,
   "id": "29ffea19-56f7-41c3-9698-a84454d85586",
   "metadata": {},
   "outputs": [],
   "source": [
    "# Build Random Forest model\n",
    "forest = RandomForestClassifier()\n",
    "forest_param_grid = {\"max_depth\": [3, None],\n",
    "              \"max_features\": [1, 3, 10],\n",
    "              \"min_samples_split\": range(10,500,20),\n",
    "              \"bootstrap\": [True, False],\n",
    "              \"criterion\": [\"gini\", \"entropy\"]}\n",
    "train_test_model(X, y, forest, forest_param_grid)"
   ]
  },
  {
   "cell_type": "code",
   "execution_count": null,
   "id": "787990e5-cdbb-420d-8cae-8c52bcb80598",
   "metadata": {},
   "outputs": [],
   "source": [
    "X_train, X_test, y_train, y_test = train_test_split(X, y, test_size=.20, random_state=32)\n",
    "\n",
    "best_model = RandomForestClassifier(bootstrap=False, criterion='gini', max_depth=None, max_features=3, min_samples_split=250)\n",
    "best_model.fit(X_train, y_train)"
   ]
  },
  {
   "cell_type": "code",
   "execution_count": null,
   "id": "f5711ccf-ceb0-4912-ab7e-83a03104d520",
   "metadata": {},
   "outputs": [],
   "source": [
    "# Explore feature importances\n",
    "features = pd.DataFrame(best_model.feature_importances_, index=X_train.columns, columns=['importance']).sort_values('importance', ascending=False)\n",
    "features"
   ]
  },
  {
   "cell_type": "markdown",
   "id": "39750c79-1fc3-4931-ada8-faff96e71e46",
   "metadata": {},
   "source": [
    "### Plot several discussion points on users"
   ]
  },
  {
   "cell_type": "code",
   "execution_count": null,
   "id": "22619d0e-1032-4849-81d7-90eba78172be",
   "metadata": {},
   "outputs": [],
   "source": [
    "non_active_users = retained[retained['active']==0]\n",
    "\n",
    "sns.distplot(active_users['surge_pct'], hist=False, kde_kws={\"label\": \"Active Users\"});\n",
    "sns.distplot(non_active_users['surge_pct'], hist=False, kde_kws={\"label\": \"Non-Active Users\"});\n",
    "plt.title('Surge %:', size=20)\n",
    "plt.xticks(size=15)\n",
    "plt.yticks(size=15)\n",
    "plt.xlabel(\"Surge %\", size=15)\n",
    "plt.ylabel('Activity', size=15)\n",
    "plt.show()"
   ]
  },
  {
   "cell_type": "code",
   "execution_count": null,
   "id": "6fc8efc6-635c-4b04-84d0-a90a7dc4a5c8",
   "metadata": {},
   "outputs": [],
   "source": [
    "sns.distplot(active_users['avg_rating_by_driver'], hist=False, kde_kws={\"label\": \"Active Users\"});\n",
    "sns.distplot(non_active_users['avg_rating_by_driver'], hist=False, kde_kws={\"label\": \"Non-Active Users\"});\n",
    "plt.title('Driver % rating:', size=20)\n",
    "plt.xticks(size=15)\n",
    "plt.yticks(size=15)\n",
    "plt.xlabel(\"Rating\", size=15)\n",
    "plt.ylabel('Activity', size=15)\n",
    "plt.show()"
   ]
  },
  {
   "cell_type": "code",
   "execution_count": null,
   "id": "1beb41f7-ed0c-4375-ae8d-8b0306db94ff",
   "metadata": {},
   "outputs": [],
   "source": [
    "sns.distplot(active_users['surge_pct'], hist=False, kde_kws={\"label\": \"Active Users\"});\n",
    "sns.distplot(non_active_users['surge_pct'], hist=False, kde_kws={\"label\": \"Non-Active Users\"});\n",
    "plt.title('Surge percentile:', size=20)\n",
    "plt.xticks(size=15)\n",
    "plt.yticks(size=15)\n",
    "plt.xlabel(\"Surge %\", size=15)\n",
    "plt.ylabel('Activity', size=15)\n",
    "plt.show()"
   ]
  },
  {
   "cell_type": "code",
   "execution_count": null,
   "id": "f16b51cb-4b3f-4853-bb1b-4f9c374a8bdd",
   "metadata": {},
   "outputs": [],
   "source": [
    "sns.distplot(active_users['weekday_pct'], hist=False, kde_kws={\"label\": \"Active Users\"});\n",
    "sns.distplot(non_active_users['weekday_pct'], hist=False, kde_kws={\"label\": \"Non-Active Users\"});\n",
    "plt.title('Weekday percentile:', size=20)\n",
    "plt.xticks(size=15)\n",
    "plt.yticks(size=15)\n",
    "plt.xlabel(\"Weekday %\", size=15)\n",
    "plt.ylabel('Activity', size=15)\n",
    "plt.show()"
   ]
  },
  {
   "cell_type": "code",
   "execution_count": null,
   "id": "60b35434-05cf-4457-8e97-e6096191d6de",
   "metadata": {},
   "outputs": [],
   "source": [
    "sns.distplot(active_users['ultimate_black_user'], hist=False, kde_kws={\"label\": \"Active Users\"});\n",
    "sns.distplot(non_active_users['ultimate_black_user'], hist=False, kde_kws={\"label\": \"Non-Active Users\"});\n",
    "plt.title('Ultimate Black Users:', size=20)\n",
    "plt.xticks(size=15)\n",
    "plt.yticks(size=15)\n",
    "plt.xlabel(\"Ultimate Black Users\", size=15)\n",
    "plt.ylabel('Activity', size=15)\n",
    "plt.show()"
   ]
  }
 ],
 "metadata": {
  "kernelspec": {
   "display_name": "Python 3 (ipykernel)",
   "language": "python",
   "name": "python3"
  },
  "language_info": {
   "codemirror_mode": {
    "name": "ipython",
    "version": 3
   },
   "file_extension": ".py",
   "mimetype": "text/x-python",
   "name": "python",
   "nbconvert_exporter": "python",
   "pygments_lexer": "ipython3",
   "version": "3.9.7"
  }
 },
 "nbformat": 4,
 "nbformat_minor": 5
}
